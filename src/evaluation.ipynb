{
 "cells": [
  {
   "cell_type": "code",
   "execution_count": 38,
   "metadata": {},
   "outputs": [],
   "source": [
    "import numpy as np\n",
    "import datetime\n",
    "\n",
    "from helpers import *\n",
    "from implementations import *"
   ]
  },
  {
   "cell_type": "code",
   "execution_count": 39,
   "metadata": {},
   "outputs": [],
   "source": [
    "DATASET_PATH = \"../dataset/train.csv\"\n",
    "\n",
    "yb,input_data,ids = load_csv_data(DATASET_PATH, False)"
   ]
  },
  {
   "cell_type": "code",
   "execution_count": 40,
   "metadata": {},
   "outputs": [],
   "source": [
    "y = yb\n",
    "tx = input_data\n"
   ]
  },
  {
   "cell_type": "code",
   "execution_count": 41,
   "metadata": {},
   "outputs": [],
   "source": [
    "def train_method(y, tx, method, *args):\n",
    "    \n",
    "    start_time = datetime.datetime.now()\n",
    "    loss, w = method(y, tx, *args)\n",
    "    end_time = datetime.datetime.now()\n",
    "    \n",
    "    ex_t = (end_time - start_time).total_seconds()\n",
    "    \n",
    "    return loss, w, ex_t"
   ]
  },
  {
   "cell_type": "code",
   "execution_count": 43,
   "metadata": {},
   "outputs": [
    {
     "name": "stdout",
     "output_type": "stream",
     "text": [
      "GD = (nan [nan nan nan nan nan nan nan nan nan nan nan nan nan nan nan nan nan nan\n",
      " nan nan nan nan nan nan nan nan nan nan nan nan])\n"
     ]
    }
   ],
   "source": [
    "\n",
    "#GD and SGD\n",
    "max_iters = 50\n",
    "gamma = 0.7\n",
    "\n",
    "features_num = tx.shape[1]\n",
    "w_initial = np.zeros(features_num)\n",
    "\n",
    "gd_loss,gd_w = mean_squared_error_gd(y,tx,w_initial, max_iters, gamma)\n",
    "print(\"GD = (\"+str(gd_loss),str(gd_w)+\")\")\n",
    "\n",
    "#sgd_loss,sgd_w = mean_squared_error_sgd(y,tx,w_initial, max_iters, gamma)\n",
    "#print(\"SGD = (\"+sgd_loss,sgd_w+\")\")\n"
   ]
  },
  {
   "cell_type": "code",
   "execution_count": null,
   "metadata": {},
   "outputs": [],
   "source": [
    "#Least Squares\n",
    "ls_loss,ls_w = least_squares(y,tx)"
   ]
  },
  {
   "cell_type": "code",
   "execution_count": null,
   "metadata": {},
   "outputs": [],
   "source": [
    "#Ridge Regression\n",
    "lambda_ = -1\n",
    "rr_loss,rr_w = ridge_regression(y,tx,lambda_)"
   ]
  },
  {
   "cell_type": "code",
   "execution_count": null,
   "metadata": {},
   "outputs": [],
   "source": [
    "#Logistic Regression and Reg\n",
    "max_iters = 50\n",
    "gamma = 0.7\n",
    "w_initial = np.array([0, 0])\n",
    "\n",
    "lr_loss,lr_w = logistic_regression(y,tx,w_initial,max_iters,gamma)\n",
    "rlr_loss,rlr_w = reg_logistic_regression(y,tx,w_initial,max_iters,gamma)"
   ]
  }
 ],
 "metadata": {
  "kernelspec": {
   "display_name": "Python 3.9.6 64-bit",
   "language": "python",
   "name": "python3"
  },
  "language_info": {
   "codemirror_mode": {
    "name": "ipython",
    "version": 3
   },
   "file_extension": ".py",
   "mimetype": "text/x-python",
   "name": "python",
   "nbconvert_exporter": "python",
   "pygments_lexer": "ipython3",
   "version": "3.9.6"
  },
  "orig_nbformat": 4,
  "vscode": {
   "interpreter": {
    "hash": "31f2aee4e71d21fbe5cf8b01ff0e069b9275f58929596ceb00d14d90e3e16cd6"
   }
  }
 },
 "nbformat": 4,
 "nbformat_minor": 2
}
